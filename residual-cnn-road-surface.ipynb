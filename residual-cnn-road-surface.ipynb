{
 "cells": [
  {
   "cell_type": "markdown",
   "id": "abd0a7be",
   "metadata": {},
   "source": [
    "# CT5135 Assignment-2 \n",
    "## Using Residual connected CNN for Classification\n",
    "### Importing Libraries"
   ]
  },
  {
   "cell_type": "code",
   "execution_count": 1,
   "id": "7fd850cf",
   "metadata": {
    "execution": {
     "iopub.execute_input": "2024-03-31T01:12:56.512883Z",
     "iopub.status.busy": "2024-03-31T01:12:56.512544Z",
     "iopub.status.idle": "2024-03-31T01:13:21.953404Z",
     "shell.execute_reply": "2024-03-31T01:13:21.952547Z"
    },
    "papermill": {
     "duration": 25.449281,
     "end_time": "2024-03-31T01:13:21.955822",
     "exception": false,
     "start_time": "2024-03-31T01:12:56.506541",
     "status": "completed"
    },
    "tags": []
   },
   "outputs": [],
   "source": [
    "!pip install -q wandb\n",
    "import numpy as np\n",
    "import pandas as pd \n",
    "from sklearn import metrics \n",
    "from glob import glob \n",
    "from tqdm import tqdm \n",
    "\n",
    "import matplotlib.pyplot as plt\n",
    "import seaborn as sns\n",
    "\n",
    "import timm\n",
    "import torch \n",
    "import torch.nn as nn \n",
    "import torch.nn.functional as F\n",
    "from torch.autograd import Variable\n",
    "import torch.optim as optim \n",
    "import torchvision\n",
    "from torchvision import transforms,datasets\n",
    "from torch.utils.data import DataLoader\n",
    "\n",
    "from PIL import Image\n",
    "import wandb\n"
   ]
  },
  {
   "cell_type": "markdown",
   "id": "f77a96ff",
   "metadata": {},
   "source": [
    "### Setting up Weights and Biases\n",
    "Weights and biases can serve as a tool to track the experiments done on any platform and framework. It offers a way to generate reports based on real time statistics based on the model runs"
   ]
  },
  {
   "cell_type": "code",
   "execution_count": 2,
   "id": "02113a68",
   "metadata": {
    "execution": {
     "iopub.execute_input": "2024-03-31T01:13:21.967143Z",
     "iopub.status.busy": "2024-03-31T01:13:21.966309Z",
     "iopub.status.idle": "2024-03-31T01:13:23.357197Z",
     "shell.execute_reply": "2024-03-31T01:13:23.356332Z"
    },
    "papermill": {
     "duration": 1.398313,
     "end_time": "2024-03-31T01:13:23.359198",
     "exception": false,
     "start_time": "2024-03-31T01:13:21.960885",
     "status": "completed"
    },
    "tags": []
   },
   "outputs": [
    {
     "name": "stderr",
     "output_type": "stream",
     "text": [
      "\u001b[34m\u001b[1mwandb\u001b[0m: W&B API key is configured. Use \u001b[1m`wandb login --relogin`\u001b[0m to force relogin\n",
      "\u001b[34m\u001b[1mwandb\u001b[0m: \u001b[33mWARNING\u001b[0m If you're specifying your api key in code, ensure this code is not shared publicly.\n",
      "\u001b[34m\u001b[1mwandb\u001b[0m: \u001b[33mWARNING\u001b[0m Consider setting the WANDB_API_KEY environment variable, or running `wandb login` from the command line.\n",
      "\u001b[34m\u001b[1mwandb\u001b[0m: Appending key for api.wandb.ai to your netrc file: /root/.netrc\n"
     ]
    },
    {
     "data": {
      "text/plain": [
       "True"
      ]
     },
     "execution_count": 2,
     "metadata": {},
     "output_type": "execute_result"
    }
   ],
   "source": [
    "wandb.login(key='############') #Masked the key "
   ]
  },
  {
   "cell_type": "code",
   "execution_count": 3,
   "id": "99b4bf42",
   "metadata": {
    "execution": {
     "iopub.execute_input": "2024-03-31T01:13:23.370973Z",
     "iopub.status.busy": "2024-03-31T01:13:23.370306Z",
     "iopub.status.idle": "2024-03-31T01:13:53.641676Z",
     "shell.execute_reply": "2024-03-31T01:13:53.640771Z"
    },
    "papermill": {
     "duration": 30.279853,
     "end_time": "2024-03-31T01:13:53.644054",
     "exception": false,
     "start_time": "2024-03-31T01:13:23.364201",
     "status": "completed"
    },
    "tags": []
   },
   "outputs": [
    {
     "name": "stderr",
     "output_type": "stream",
     "text": [
      "\u001b[34m\u001b[1mwandb\u001b[0m: Currently logged in as: \u001b[33mhemanthh17\u001b[0m. Use \u001b[1m`wandb login --relogin`\u001b[0m to force relogin\n",
      "\u001b[34m\u001b[1mwandb\u001b[0m: wandb version 0.16.5 is available!  To upgrade, please run:\n",
      "\u001b[34m\u001b[1mwandb\u001b[0m:  $ pip install wandb --upgrade\n",
      "\u001b[34m\u001b[1mwandb\u001b[0m: Tracking run with wandb version 0.16.3\n",
      "\u001b[34m\u001b[1mwandb\u001b[0m: Run data is saved locally in \u001b[35m\u001b[1m/kaggle/working/wandb/run-20240331_011323-lgrfvmv7\u001b[0m\n",
      "\u001b[34m\u001b[1mwandb\u001b[0m: Run \u001b[1m`wandb offline`\u001b[0m to turn off syncing.\n",
      "\u001b[34m\u001b[1mwandb\u001b[0m: Syncing run \u001b[33mdainty-silence-2\u001b[0m\n",
      "\u001b[34m\u001b[1mwandb\u001b[0m: ⭐️ View project at \u001b[34m\u001b[4mhttps://wandb.ai/hemanthh17/road-surface-cnn\u001b[0m\n",
      "\u001b[34m\u001b[1mwandb\u001b[0m: 🚀 View run at \u001b[34m\u001b[4mhttps://wandb.ai/hemanthh17/road-surface-cnn/runs/lgrfvmv7\u001b[0m\n"
     ]
    },
    {
     "data": {
      "text/html": [
       "<button onClick=\"this.nextSibling.style.display='block';this.style.display='none';\">Display W&B run</button><iframe src='https://wandb.ai/hemanthh17/road-surface-cnn/runs/lgrfvmv7?jupyter=true' style='border:none;width:100%;height:420px;display:none;'></iframe>"
      ],
      "text/plain": [
       "<wandb.sdk.wandb_run.Run at 0x7dadbf6f3550>"
      ]
     },
     "execution_count": 3,
     "metadata": {},
     "output_type": "execute_result"
    }
   ],
   "source": [
    "wandb.init(\n",
    "    project=\"road-surface-cnn\",\n",
    "    config={\n",
    "    \"learning_rate\": 0.02,\n",
    "    \"architecture\":\"Residual CNN\",\n",
    "    \"dataset\":\"Road Surface Dataset\",\n",
    "    \"epochs\":20,\n",
    "    }\n",
    ")"
   ]
  },
  {
   "cell_type": "markdown",
   "id": "c08bcef7",
   "metadata": {},
   "source": [
    "### Setting up configuration for the Experiment"
   ]
  },
  {
   "cell_type": "code",
   "execution_count": 4,
   "id": "a9121529",
   "metadata": {
    "execution": {
     "iopub.execute_input": "2024-03-31T01:13:53.660671Z",
     "iopub.status.busy": "2024-03-31T01:13:53.660000Z",
     "iopub.status.idle": "2024-03-31T01:13:53.758710Z",
     "shell.execute_reply": "2024-03-31T01:13:53.757476Z"
    },
    "papermill": {
     "duration": 0.108501,
     "end_time": "2024-03-31T01:13:53.760726",
     "exception": false,
     "start_time": "2024-03-31T01:13:53.652225",
     "status": "completed"
    },
    "tags": []
   },
   "outputs": [
    {
     "name": "stdout",
     "output_type": "stream",
     "text": [
      "Device:  cuda\n"
     ]
    }
   ],
   "source": [
    "class CFG:\n",
    "    train_batch_size=32\n",
    "    batch_size=32\n",
    "    loss_fn=nn.CrossEntropyLoss()\n",
    "    epochs=20\n",
    "    stats=False\n",
    "    device=torch.device('cuda' if torch.cuda.is_available() else 'cpu')\n",
    "print('Device: ',CFG.device)"
   ]
  },
  {
   "cell_type": "markdown",
   "id": "7afa7f8c",
   "metadata": {
    "papermill": {
     "duration": 0.005461,
     "end_time": "2024-03-31T01:13:53.771922",
     "exception": false,
     "start_time": "2024-03-31T01:13:53.766461",
     "status": "completed"
    },
    "tags": []
   },
   "source": [
    "## Finding Channel Mean and Standard Deviation\n",
    "\n",
    "If the CFG.stats is set true then the channel mean, and standard deviation is computed which can help in normalizing the image data.\n",
    "The sampling step is done in order to procure a subset for the training of the neural network. This was done due to computation and space constraints. An alternate equivalent approach is to perform K fold cross validation and choose some of the folds for the training. "
   ]
  },
  {
   "cell_type": "code",
   "execution_count": 5,
   "id": "699c9276",
   "metadata": {
    "execution": {
     "iopub.execute_input": "2024-03-31T01:13:53.784170Z",
     "iopub.status.busy": "2024-03-31T01:13:53.783896Z",
     "iopub.status.idle": "2024-03-31T01:15:03.224305Z",
     "shell.execute_reply": "2024-03-31T01:15:03.223497Z"
    },
    "papermill": {
     "duration": 69.449055,
     "end_time": "2024-03-31T01:15:03.226554",
     "exception": false,
     "start_time": "2024-03-31T01:13:53.777499",
     "status": "completed"
    },
    "tags": []
   },
   "outputs": [],
   "source": [
    "train_data_path='/kaggle/input/road-surface-dataset/Group_6_water_smooth/train'\n",
    "transform= transforms.Compose([\n",
    "    transforms.Resize((224,224)),\n",
    "    transforms.ToTensor()\n",
    "])\n",
    "###Sampling the training data\n",
    "train_dataset_full=datasets.ImageFolder(train_data_path,transform=transform)\n",
    "#Finding the class counts\n",
    "class_counts=np.bincount(train_dataset_full.targets)\n",
    "#FIniding the minimum class count present\n",
    "min_samples_per_class=min(class_counts)\n",
    "#Finding the number of data points to take from the classes\n",
    "num_samples_per_class=min(min_samples_per_class,14500//len(train_dataset_full.classes))\n",
    "#Finding number of samples to be considered\n",
    "total_num_samples=num_samples_per_class*len(train_dataset_full.classes)\n",
    "balanced_indices=[]\n",
    "for idx in range(len(train_dataset_full.classes)):\n",
    "    class_indices=np.where(np.array(train_dataset_full.targets)==idx)[0]\n",
    "    sampled_indices=np.random.choice(class_indices,num_samples_per_class,replace=False)\n",
    "    balanced_indices.extend(sampled_indices)\n",
    "#Creating Subset of Data\n",
    "train_dataset=torch.utils.data.Subset(train_dataset_full, balanced_indices[:total_num_samples])\n",
    "if CFG.stats:\n",
    "    stat_train_images=[image for image,label in train_dataset]  \n",
    "    stat_train_stack=torch.stack(stat_train_images,dim=1).permute(1,0,2,3)\n",
    "    print(\"Mean: \",torch.mean(stat_train_stack,dim=(0,2,3)))\n",
    "    print(\"Standard Deviation: \",torch.std(stat_train_stack,dim=(0,2,3)))\n",
    "\n"
   ]
  },
  {
   "cell_type": "markdown",
   "id": "2dee7932",
   "metadata": {},
   "source": [
    "### Setting the Image transform to be considered \n",
    "\n",
    "Here in the Image transform the images are resized to 224x224 size. This data is then converted to a tensor which can now be passed into the model. Post the conversion to tensor with the help of precomputed channel mean and standard deviation, the image data is normalised."
   ]
  },
  {
   "cell_type": "code",
   "execution_count": 6,
   "id": "54c08581",
   "metadata": {
    "execution": {
     "iopub.execute_input": "2024-03-31T01:15:03.240102Z",
     "iopub.status.busy": "2024-03-31T01:15:03.239281Z",
     "iopub.status.idle": "2024-03-31T01:15:03.244532Z",
     "shell.execute_reply": "2024-03-31T01:15:03.243658Z"
    },
    "papermill": {
     "duration": 0.013819,
     "end_time": "2024-03-31T01:15:03.246376",
     "exception": false,
     "start_time": "2024-03-31T01:15:03.232557",
     "status": "completed"
    },
    "tags": []
   },
   "outputs": [],
   "source": [
    "image_transform=transforms.Compose([\n",
    "    transforms.Resize((224,224)),\n",
    "    transforms.ToTensor(),\n",
    "    transforms.Normalize((0.4855, 0.4906, 0.4701),(0.1437, 0.1478, 0.1576)) #Mean and Standard Deviation calculated from setting CFG.stats=True\n",
    "])\n",
    "train_dataset.dataset.transform=image_transform"
   ]
  },
  {
   "cell_type": "markdown",
   "id": "a7642242",
   "metadata": {},
   "source": [
    "### Creating the Torch Datasets\n",
    "\n",
    "Torch datasets are necessary in order to pass the data into the model. The data is maintained here depnding on the batch size specified. It is an efficient in both computation and memory."
   ]
  },
  {
   "cell_type": "code",
   "execution_count": 7,
   "id": "60c45db7",
   "metadata": {
    "execution": {
     "iopub.execute_input": "2024-03-31T01:15:03.259159Z",
     "iopub.status.busy": "2024-03-31T01:15:03.258487Z",
     "iopub.status.idle": "2024-03-31T01:15:06.439695Z",
     "shell.execute_reply": "2024-03-31T01:15:06.438809Z"
    },
    "papermill": {
     "duration": 3.189988,
     "end_time": "2024-03-31T01:15:06.442153",
     "exception": false,
     "start_time": "2024-03-31T01:15:03.252165",
     "status": "completed"
    },
    "tags": []
   },
   "outputs": [],
   "source": [
    "val_data_path='/kaggle/input/road-surface-dataset/Group_6_water_smooth/valid'\n",
    "test_data_path='/kaggle/input/road-surface-dataset/Group_6_water_smooth/test'\n",
    "val_dataset=datasets.ImageFolder(val_data_path,transform=image_transform)\n",
    "test_dataset=datasets.ImageFolder(test_data_path,transform=image_transform)"
   ]
  },
  {
   "cell_type": "code",
   "execution_count": 8,
   "id": "6eecb005",
   "metadata": {
    "execution": {
     "iopub.execute_input": "2024-03-31T01:15:06.456245Z",
     "iopub.status.busy": "2024-03-31T01:15:06.455491Z",
     "iopub.status.idle": "2024-03-31T01:15:06.461107Z",
     "shell.execute_reply": "2024-03-31T01:15:06.460221Z"
    },
    "papermill": {
     "duration": 0.014524,
     "end_time": "2024-03-31T01:15:06.463045",
     "exception": false,
     "start_time": "2024-03-31T01:15:06.448521",
     "status": "completed"
    },
    "tags": []
   },
   "outputs": [],
   "source": [
    "train_loader=DataLoader(train_dataset,batch_size=CFG.train_batch_size,shuffle=True)\n",
    "val_loader=DataLoader(val_dataset,batch_size=CFG.batch_size,shuffle=False)\n",
    "test_loader=DataLoader(test_dataset,batch_size=CFG.batch_size,shuffle=False)"
   ]
  },
  {
   "cell_type": "markdown",
   "id": "e022931f",
   "metadata": {},
   "source": [
    "### Creating the Model \n",
    "\n",
    "A custom CNN model with residual connections is created with the torch.nn module. Residual connections in CNN were not implemented for this task in earlier works. Here the Residual block and the CNN block are created separately and this helps to easily modify the architecture depending on the complexity.\n",
    "The residual block checks internally if the dimensions match to perform the addition operation else a separate network is used to procure the data that can be used by the residual network."
   ]
  },
  {
   "cell_type": "code",
   "execution_count": 9,
   "id": "9c26d938",
   "metadata": {
    "execution": {
     "iopub.execute_input": "2024-03-31T01:15:06.476747Z",
     "iopub.status.busy": "2024-03-31T01:15:06.476466Z",
     "iopub.status.idle": "2024-03-31T01:15:06.494683Z",
     "shell.execute_reply": "2024-03-31T01:15:06.493817Z"
    },
    "papermill": {
     "duration": 0.027419,
     "end_time": "2024-03-31T01:15:06.496670",
     "exception": false,
     "start_time": "2024-03-31T01:15:06.469251",
     "status": "completed"
    },
    "tags": []
   },
   "outputs": [],
   "source": [
    "class ResidualBlock(nn.Module):\n",
    "    def __init__(self,in_channels,out_channels,stride=1):\n",
    "        super(ResidualBlock,self).__init__()\n",
    "        self.conv1=nn.Conv2d(in_channels,out_channels,kernel_size=3,stride=stride,padding=1,bias=False)\n",
    "        self.bn1=nn.BatchNorm2d(out_channels)\n",
    "        self.conv2=nn.Conv2d(out_channels,out_channels,kernel_size=3,stride=1, padding=1, bias=False)\n",
    "        self.bn2=nn.BatchNorm2d(out_channels)\n",
    "        self.relu=nn.ReLU(inplace=True)\n",
    "        self.stride=stride\n",
    "        if stride!=1 or in_channels!=out_channels:\n",
    "            self.residual=nn.Sequential(\n",
    "                nn.Conv2d(in_channels,out_channels,kernel_size=1,stride=stride,bias=False),\n",
    "                nn.BatchNorm2d(out_channels)\n",
    "            )\n",
    "        else:\n",
    "            self.residual=nn.Identity()\n",
    "\n",
    "    def forward(self,x):\n",
    "        identity=self.residual(x)\n",
    "        out=self.conv1(x)\n",
    "        out=self.bn1(out)\n",
    "        out=self.relu(out)\n",
    "        out=self.conv2(out)\n",
    "        out=self.bn2(out)\n",
    "        out+=identity\n",
    "        out=self.relu(out)\n",
    "        return out\n",
    "\n",
    "class ConvResNet(nn.Module):\n",
    "    def __init__(self,in_channels,num_classes):\n",
    "        super(ConvResNet,self).__init__()\n",
    "        self.conv1=nn.Conv2d(in_channels,64,kernel_size=3,stride=1,padding=1,bias=False)\n",
    "        self.bn1=nn.BatchNorm2d(64)\n",
    "        self.relu=nn.ReLU(inplace=True)\n",
    "        self.residual1=ResidualBlock(64,64)\n",
    "        self.conv2=nn.Conv2d(64,128,kernel_size=3,stride=2,padding=1,bias=False)\n",
    "        self.bn2=nn.BatchNorm2d(128)\n",
    "        self.residual2=ResidualBlock(128,128)\n",
    "        self.conv3=nn.Conv2d(128,256,kernel_size=3,stride=2,padding=1,bias=False)\n",
    "        self.bn3=nn.BatchNorm2d(256)\n",
    "        self.residual3=ResidualBlock(256,256)\n",
    "        self.avg_pool=nn.AdaptiveAvgPool2d((1,1))\n",
    "        self.fc=nn.Linear(256,num_classes)\n",
    "\n",
    "    def forward(self, x):\n",
    "        x=self.conv1(x)\n",
    "        x=self.bn1(x)\n",
    "        x=self.relu(x)\n",
    "        x=self.residual1(x)\n",
    "        x=self.conv2(x)\n",
    "        x=self.bn2(x)\n",
    "        x=self.relu(x)\n",
    "        x=self.residual2(x)\n",
    "        x=self.conv3(x)\n",
    "        x=self.bn3(x)\n",
    "        x=self.relu(x)\n",
    "        x=self.residual3(x)\n",
    "        x=self.avg_pool(x)\n",
    "        x=torch.flatten(x, 1)\n",
    "        x=self.fc(x)\n",
    "        return x\n",
    "\n"
   ]
  },
  {
   "cell_type": "markdown",
   "id": "c925b35e",
   "metadata": {},
   "source": [
    "### Training Loop\n",
    "\n",
    "Here the training loop trains on the training data, and validates the model on the validation dataset. It uses the Adam as the optimizer. The loss function used is the Cross Entropy Loss which is effective in classification tasks. GPU is used from Kaggle in order to train the model and save the weights. The learning curves and the accuracy curves are plotted to help evaluate the performance."
   ]
  },
  {
   "cell_type": "code",
   "execution_count": 10,
   "id": "bcc9a5e0",
   "metadata": {
    "execution": {
     "iopub.execute_input": "2024-03-31T01:15:06.510449Z",
     "iopub.status.busy": "2024-03-31T01:15:06.510152Z",
     "iopub.status.idle": "2024-03-31T03:00:27.372016Z",
     "shell.execute_reply": "2024-03-31T03:00:27.370839Z"
    },
    "papermill": {
     "duration": 6320.870942,
     "end_time": "2024-03-31T03:00:27.374002",
     "exception": false,
     "start_time": "2024-03-31T01:15:06.503060",
     "status": "completed"
    },
    "tags": []
   },
   "outputs": [
    {
     "name": "stderr",
     "output_type": "stream",
     "text": [
      "100%|██████████| 454/454 [05:39<00:00,  1.34it/s]\n"
     ]
    },
    {
     "name": "stdout",
     "output_type": "stream",
     "text": [
      "Epoch 1/20, Train Loss:0.7190298624544836, Train accuracy:0.6847368784054073\n",
      "Validation Loss: 0.6409365913247674, Validation Accuracy: 0.7252032520325203\n"
     ]
    },
    {
     "name": "stderr",
     "output_type": "stream",
     "text": [
      "100%|██████████| 454/454 [04:55<00:00,  1.54it/s]\n"
     ]
    },
    {
     "name": "stdout",
     "output_type": "stream",
     "text": [
      "Epoch 2/20, Train Loss:0.6715812375976493, Train accuracy:0.7153134029129076\n",
      "Validation Loss: 0.5938871085643769, Validation Accuracy: 0.7516260162601626\n"
     ]
    },
    {
     "name": "stderr",
     "output_type": "stream",
     "text": [
      "100%|██████████| 454/454 [04:55<00:00,  1.54it/s]\n"
     ]
    },
    {
     "name": "stdout",
     "output_type": "stream",
     "text": [
      "Epoch 3/20, Train Loss:0.5882750063758446, Train accuracy:0.7567663187687953\n",
      "Validation Loss: 0.5296127993643769, Validation Accuracy: 0.7898373983739837\n"
     ]
    },
    {
     "name": "stderr",
     "output_type": "stream",
     "text": [
      "100%|██████████| 454/454 [04:53<00:00,  1.55it/s]\n"
     ]
    },
    {
     "name": "stdout",
     "output_type": "stream",
     "text": [
      "Epoch 4/20, Train Loss:0.5446216857367955, Train accuracy:0.7847160799575447\n",
      "Validation Loss: 0.5252381954251266, Validation Accuracy: 0.7910569105691057\n"
     ]
    },
    {
     "name": "stderr",
     "output_type": "stream",
     "text": [
      "100%|██████████| 454/454 [04:52<00:00,  1.55it/s]\n"
     ]
    },
    {
     "name": "stdout",
     "output_type": "stream",
     "text": [
      "Epoch 5/20, Train Loss:0.4971826029827746, Train accuracy:0.7995754466654873\n",
      "Validation Loss: 0.490500523162082, Validation Accuracy: 0.8008130081300813\n"
     ]
    },
    {
     "name": "stderr",
     "output_type": "stream",
     "text": [
      "100%|██████████| 454/454 [04:52<00:00,  1.55it/s]\n"
     ]
    },
    {
     "name": "stdout",
     "output_type": "stream",
     "text": [
      "Epoch 6/20, Train Loss:0.4641094787695201, Train accuracy:0.8128427383690076\n",
      "Validation Loss: 0.472980503192762, Validation Accuracy: 0.8097560975609757\n"
     ]
    },
    {
     "name": "stderr",
     "output_type": "stream",
     "text": [
      "100%|██████████| 454/454 [04:51<00:00,  1.56it/s]\n"
     ]
    },
    {
     "name": "stdout",
     "output_type": "stream",
     "text": [
      "Epoch 7/20, Train Loss:0.45001936059272224, Train accuracy:0.8203313874638835\n",
      "Validation Loss: 0.40501551279207554, Validation Accuracy: 0.8398373983739837\n"
     ]
    },
    {
     "name": "stderr",
     "output_type": "stream",
     "text": [
      "100%|██████████| 454/454 [04:51<00:00,  1.56it/s]\n"
     ]
    },
    {
     "name": "stdout",
     "output_type": "stream",
     "text": [
      "Epoch 8/20, Train Loss:0.41496382888345623, Train accuracy:0.8377262810307211\n",
      "Validation Loss: 0.38801207065097687, Validation Accuracy: 0.8565040650406504\n"
     ]
    },
    {
     "name": "stderr",
     "output_type": "stream",
     "text": [
      "100%|██████████| 454/454 [04:51<00:00,  1.56it/s]\n"
     ]
    },
    {
     "name": "stdout",
     "output_type": "stream",
     "text": [
      "Epoch 9/20, Train Loss:0.39907589059622917, Train accuracy:0.8445073412347426\n",
      "Validation Loss: 0.3938940366593803, Validation Accuracy: 0.8544715447154472\n"
     ]
    },
    {
     "name": "stderr",
     "output_type": "stream",
     "text": [
      "100%|██████████| 454/454 [04:51<00:00,  1.56it/s]\n"
     ]
    },
    {
     "name": "stdout",
     "output_type": "stream",
     "text": [
      "Epoch 10/20, Train Loss:0.3759464266481248, Train accuracy:0.8529984079249956\n",
      "Validation Loss: 0.4192762215689915, Validation Accuracy: 0.8394308943089431\n"
     ]
    },
    {
     "name": "stderr",
     "output_type": "stream",
     "text": [
      "100%|██████████| 454/454 [04:51<00:00,  1.56it/s]\n"
     ]
    },
    {
     "name": "stdout",
     "output_type": "stream",
     "text": [
      "Epoch 11/20, Train Loss:0.37074691460306197, Train accuracy:0.8528804764431865\n",
      "Validation Loss: 0.4660555312303993, Validation Accuracy: 0.8077235772357724\n"
     ]
    },
    {
     "name": "stderr",
     "output_type": "stream",
     "text": [
      "100%|██████████| 454/454 [04:51<00:00,  1.56it/s]\n"
     ]
    },
    {
     "name": "stdout",
     "output_type": "stream",
     "text": [
      "Epoch 12/20, Train Loss:0.3363504238579304, Train accuracy:0.8601332625744442\n",
      "Validation Loss: 0.38288571856370784, Validation Accuracy: 0.8491869918699188\n"
     ]
    },
    {
     "name": "stderr",
     "output_type": "stream",
     "text": [
      "100%|██████████| 454/454 [04:50<00:00,  1.56it/s]\n"
     ]
    },
    {
     "name": "stdout",
     "output_type": "stream",
     "text": [
      "Epoch 13/20, Train Loss:0.33158374146573566, Train accuracy:0.8700395070464061\n",
      "Validation Loss: 0.35391130140884136, Validation Accuracy: 0.8585365853658536\n"
     ]
    },
    {
     "name": "stderr",
     "output_type": "stream",
     "text": [
      "100%|██████████| 454/454 [04:51<00:00,  1.56it/s]\n"
     ]
    },
    {
     "name": "stdout",
     "output_type": "stream",
     "text": [
      "Epoch 14/20, Train Loss:0.30744762440982937, Train accuracy:0.8787074709593726\n",
      "Validation Loss: 0.3581474523839912, Validation Accuracy: 0.8617886178861789\n"
     ]
    },
    {
     "name": "stderr",
     "output_type": "stream",
     "text": [
      "100%|██████████| 454/454 [04:50<00:00,  1.56it/s]\n"
     ]
    },
    {
     "name": "stdout",
     "output_type": "stream",
     "text": [
      "Epoch 15/20, Train Loss:0.3050639631871692, Train accuracy:0.8779409163276136\n",
      "Validation Loss: 0.38247448522143246, Validation Accuracy: 0.8402439024390244\n"
     ]
    },
    {
     "name": "stderr",
     "output_type": "stream",
     "text": [
      "100%|██████████| 454/454 [04:50<00:00,  1.56it/s]\n"
     ]
    },
    {
     "name": "stdout",
     "output_type": "stream",
     "text": [
      "Epoch 16/20, Train Loss:0.287392667303234, Train accuracy:0.8821274839318356\n",
      "Validation Loss: 0.34823383440801164, Validation Accuracy: 0.8768292682926829\n"
     ]
    },
    {
     "name": "stderr",
     "output_type": "stream",
     "text": [
      "100%|██████████| 454/454 [04:51<00:00,  1.56it/s]\n"
     ]
    },
    {
     "name": "stdout",
     "output_type": "stream",
     "text": [
      "Epoch 17/20, Train Loss:0.25663119308376603, Train accuracy:0.8978713367533463\n",
      "Validation Loss: 0.2939985069499268, Validation Accuracy: 0.8947154471544716\n"
     ]
    },
    {
     "name": "stderr",
     "output_type": "stream",
     "text": [
      "100%|██████████| 454/454 [04:52<00:00,  1.55it/s]\n"
     ]
    },
    {
     "name": "stdout",
     "output_type": "stream",
     "text": [
      "Epoch 18/20, Train Loss:0.24543980363566545, Train accuracy:0.9059496432572676\n",
      "Validation Loss: 0.2815855007043214, Validation Accuracy: 0.9036585365853659\n"
     ]
    },
    {
     "name": "stderr",
     "output_type": "stream",
     "text": [
      "100%|██████████| 454/454 [04:50<00:00,  1.56it/s]\n"
     ]
    },
    {
     "name": "stdout",
     "output_type": "stream",
     "text": [
      "Epoch 19/20, Train Loss:0.23584059836704308, Train accuracy:0.9086031015979715\n",
      "Validation Loss: 0.2861538423149566, Validation Accuracy: 0.8959349593495934\n"
     ]
    },
    {
     "name": "stderr",
     "output_type": "stream",
     "text": [
      "100%|██████████| 454/454 [04:50<00:00,  1.56it/s]\n"
     ]
    },
    {
     "name": "stdout",
     "output_type": "stream",
     "text": [
      "Epoch 20/20, Train Loss:0.2322113697294844, Train accuracy:0.9095465534524442\n",
      "Validation Loss: 0.3571745305708269, Validation Accuracy: 0.8735772357723577\n"
     ]
    },
    {
     "name": "stderr",
     "output_type": "stream",
     "text": [
      "\u001b[34m\u001b[1mwandb\u001b[0m:                                                                                \n",
      "\u001b[34m\u001b[1mwandb\u001b[0m: \n",
      "\u001b[34m\u001b[1mwandb\u001b[0m: Run history:\n",
      "\u001b[34m\u001b[1mwandb\u001b[0m:           epoch ▁▁▂▂▂▃▃▄▄▄▅▅▅▆▆▇▇▇██\n",
      "\u001b[34m\u001b[1mwandb\u001b[0m: train_accuracy: ▁▂▃▄▅▅▅▆▆▆▆▆▇▇▇▇████\n",
      "\u001b[34m\u001b[1mwandb\u001b[0m:      train_loss █▇▆▅▅▄▄▄▃▃▃▂▂▂▂▂▁▁▁▁\n",
      "\u001b[34m\u001b[1mwandb\u001b[0m:   val_accuracy: ▁▂▄▄▄▄▅▆▆▅▄▆▆▆▆▇███▇\n",
      "\u001b[34m\u001b[1mwandb\u001b[0m:        val_loss █▇▆▆▅▅▃▃▃▄▅▃▂▂▃▂▁▁▁▂\n",
      "\u001b[34m\u001b[1mwandb\u001b[0m: \n",
      "\u001b[34m\u001b[1mwandb\u001b[0m: Run summary:\n",
      "\u001b[34m\u001b[1mwandb\u001b[0m:           epoch 20\n",
      "\u001b[34m\u001b[1mwandb\u001b[0m: train_accuracy: 0.90955\n",
      "\u001b[34m\u001b[1mwandb\u001b[0m:      train_loss 0.23221\n",
      "\u001b[34m\u001b[1mwandb\u001b[0m:   val_accuracy: 0.87358\n",
      "\u001b[34m\u001b[1mwandb\u001b[0m:        val_loss 0.35717\n",
      "\u001b[34m\u001b[1mwandb\u001b[0m: \n",
      "\u001b[34m\u001b[1mwandb\u001b[0m: 🚀 View run \u001b[33mdainty-silence-2\u001b[0m at: \u001b[34m\u001b[4mhttps://wandb.ai/hemanthh17/road-surface-cnn/runs/lgrfvmv7\u001b[0m\n",
      "\u001b[34m\u001b[1mwandb\u001b[0m: Synced 6 W&B file(s), 0 media file(s), 0 artifact file(s) and 0 other file(s)\n",
      "\u001b[34m\u001b[1mwandb\u001b[0m: Find logs at: \u001b[35m\u001b[1m./wandb/run-20240331_011323-lgrfvmv7/logs\u001b[0m\n"
     ]
    },
    {
     "data": {
      "image/png": "[encoded data removed]",
      "text/plain": [
       "<Figure size 640x480 with 1 Axes>"
      ]
     },
     "metadata": {},
     "output_type": "display_data"
    },
    {
     "data": {
      "image/png": "[encoded data removed]",
      "text/plain": [
       "<Figure size 640x480 with 1 Axes>"
      ]
     },
     "metadata": {},
     "output_type": "display_data"
    }
   ],
   "source": [
    "device=CFG.device\n",
    "model=ConvResNet(3,3).to(device)\n",
    "optimizer=optim.RAdam(model.parameters(),lr=0.001)\n",
    "criterion=nn.CrossEntropyLoss().to(device)\n",
    "def train_fn(model,train_loader,criterion,optimizer,num_epochs):\n",
    "    train_losses=[]\n",
    "    val_losses=[]\n",
    "    train_accs=[]\n",
    "    val_accs=[]\n",
    "    train_loss=0.0\n",
    "    correct=0\n",
    "    total=0\n",
    "    model.train()\n",
    "    for epoch in range(num_epochs):\n",
    "        running_loss = 0.0\n",
    "        for images,labels in tqdm(train_loader):\n",
    "            images,labels=images.to(device),labels.to(device) \n",
    "            optimizer.zero_grad()\n",
    "            outputs=model(images)\n",
    "            loss=criterion(outputs,labels)\n",
    "            loss.backward()\n",
    "            optimizer.step()\n",
    "            running_loss+=loss.item()*images.size(0)\n",
    "            _,predicted=torch.max(outputs,1)\n",
    "            total+=labels.size(0)\n",
    "            correct+=(predicted==labels).sum().item()\n",
    "        epoch_loss=running_loss/len(train_loader.dataset)\n",
    "        train_losses.append(epoch_loss)\n",
    "        train_acc=correct/total\n",
    "        train_accs.append(train_acc)\n",
    "        print(f\"Epoch {epoch+1}/{num_epochs}, Train Loss:{epoch_loss}, Train accuracy:{train_acc}\")\n",
    "        wandb.log({'train_loss':epoch_loss,'epoch':epoch+1,'train_accuracy:':train_acc})\n",
    "        model.eval()\n",
    "        val_loss=0.0\n",
    "        correct=0\n",
    "        total=0\n",
    "        with torch.no_grad():\n",
    "            for images,labels in val_loader:\n",
    "                images,labels=images.to(device),labels.to(device) \n",
    "                outputs=model(images)\n",
    "                loss=criterion(outputs,labels)\n",
    "                val_loss+=loss.item()*images.size(0)\n",
    "                _,predicted=torch.max(outputs,1)\n",
    "                total+=labels.size(0)\n",
    "                correct+=(predicted==labels).sum().item()\n",
    "        val_loss/=len(val_loader.dataset)\n",
    "        val_losses.append(val_loss)\n",
    "        val_acc=correct/total\n",
    "        val_accs.append(val_acc)\n",
    "        print(f\"Validation Loss: {val_loss}, Validation Accuracy: {val_acc}\")\n",
    "        wandb.log({'val_loss':val_loss,'val_accuracy:':val_acc})\n",
    "    plt.figure()\n",
    "    plt.plot(train_accs)\n",
    "    plt.plot(val_accs)\n",
    "    plt.xlabel('Epochs')\n",
    "    plt.ylabel('Accuracy')\n",
    "    plt.title('Accuracy Curve')\n",
    "    plt.legend()\n",
    "    plt.figure()\n",
    "    plt.plot(train_losses)\n",
    "    plt.plot(val_losses)\n",
    "    plt.xlabel('Epochs')\n",
    "    plt.ylabel('Cross Entropy Loss')\n",
    "    plt.title('Loss Curve')\n",
    "    plt.legend()\n",
    "train_fn(model,train_loader,criterion,optimizer,CFG.epochs)\n",
    "wandb.finish()"
   ]
  },
  {
   "cell_type": "markdown",
   "id": "89e45b6f",
   "metadata": {},
   "source": [
    "### Testing Loop\n",
    "\n",
    "The model predicts the test data and the performace is shown as the overall accuracy and F1 score achieved. Accuracy cannot be openly taken as the data label distribution is imbalanced. "
   ]
  },
  {
   "cell_type": "code",
   "execution_count": 11,
   "id": "ddb925a2",
   "metadata": {
    "execution": {
     "iopub.execute_input": "2024-03-31T03:00:28.919018Z",
     "iopub.status.busy": "2024-03-31T03:00:28.918617Z",
     "iopub.status.idle": "2024-03-31T03:01:15.007062Z",
     "shell.execute_reply": "2024-03-31T03:01:15.005938Z"
    },
    "papermill": {
     "duration": 46.892786,
     "end_time": "2024-03-31T03:01:15.009233",
     "exception": false,
     "start_time": "2024-03-31T03:00:28.116447",
     "status": "completed"
    },
    "tags": []
   },
   "outputs": [
    {
     "name": "stderr",
     "output_type": "stream",
     "text": [
      "100%|██████████| 94/94 [00:46<00:00,  2.04it/s]"
     ]
    },
    {
     "name": "stdout",
     "output_type": "stream",
     "text": [
      "Test Loss: 0.16635075225884288, Test Accuracy: 0.9425596237823312, F1 Score: 0.6493936454361906\n"
     ]
    },
    {
     "name": "stderr",
     "output_type": "stream",
     "text": [
      "\n"
     ]
    }
   ],
   "source": [
    "model.eval()\n",
    "test_loss=0.0\n",
    "correct=0\n",
    "total=0\n",
    "predictions=[]\n",
    "targets_list=[]\n",
    "with torch.no_grad():\n",
    "    for images,labels in tqdm(test_loader):\n",
    "        images, labels=images.to(device), labels.to(device) \n",
    "        outputs=model(images)\n",
    "        loss=criterion(outputs, labels)\n",
    "        test_loss+=loss.item()*images.size(0)\n",
    "        _,predicted=torch.max(outputs, 1)\n",
    "        predictions.extend(predicted.cpu().numpy())\n",
    "        targets_list.extend(labels.cpu().numpy())\n",
    "        total+=labels.size(0)\n",
    "        correct+=(predicted == labels).sum().item()\n",
    "test_loss/=len(test_loader.dataset)\n",
    "test_acc=correct/total\n",
    "f1=metrics.f1_score(targets_list, predictions, average='macro')\n",
    "print(f\"Test Loss: {test_loss}, Test Accuracy: {test_acc}, F1 Score: {f1}\")\n",
    "\n"
   ]
  },
  {
   "cell_type": "markdown",
   "id": "68690d01",
   "metadata": {},
   "source": [
    "### Confusion Matrix\n",
    "Confusion Matrix can help us further analyse the trend of prediction in the test dataset. From the result we can see class 0 (Water Asphalt Smooth) performs bad when compared to other classes. "
   ]
  },
  {
   "cell_type": "code",
   "execution_count": 12,
   "id": "389bf399",
   "metadata": {
    "execution": {
     "iopub.execute_input": "2024-03-31T03:01:16.566297Z",
     "iopub.status.busy": "2024-03-31T03:01:16.565926Z",
     "iopub.status.idle": "2024-03-31T03:01:16.879336Z",
     "shell.execute_reply": "2024-03-31T03:01:16.878329Z"
    },
    "papermill": {
     "duration": 1.136307,
     "end_time": "2024-03-31T03:01:16.881256",
     "exception": false,
     "start_time": "2024-03-31T03:01:15.744949",
     "status": "completed"
    },
    "tags": []
   },
   "outputs": [
    {
     "data": {
      "image/png": "[encoded data removed]",
      "text/plain": [
       "<Figure size 500x500 with 2 Axes>"
      ]
     },
     "metadata": {},
     "output_type": "display_data"
    }
   ],
   "source": [
    "def conf_matrix_plotter(ytest,ypred,figname):\n",
    "    confusion= metrics.confusion_matrix(ytest,ypred)\n",
    "    plt.figure(figsize=(5,5))\n",
    "    sns.heatmap(confusion,annot=True,fmt='d')\n",
    "    plt.title(f\"{figname} Consusion Matrix\")\n",
    "    plt.xlabel('Predicted')\n",
    "    plt.ylabel(\"Actual\")\n",
    "    plt.show()\n",
    "conf_matrix_plotter(targets_list,predictions,'Residual CNN - Confusion Matrix')"
   ]
  },
  {
   "cell_type": "markdown",
   "id": "bb3dc540",
   "metadata": {},
   "source": [
    "### Saving the model \n",
    "\n",
    "The models state dictionary is saved which can be loaded at any point in order to be used for any web interface."
   ]
  },
  {
   "cell_type": "code",
   "execution_count": 13,
   "id": "998e28bd",
   "metadata": {
    "execution": {
     "iopub.execute_input": "2024-03-31T03:01:18.346175Z",
     "iopub.status.busy": "2024-03-31T03:01:18.345730Z",
     "iopub.status.idle": "2024-03-31T03:01:18.374375Z",
     "shell.execute_reply": "2024-03-31T03:01:18.373377Z"
    },
    "papermill": {
     "duration": 0.760291,
     "end_time": "2024-03-31T03:01:18.376529",
     "exception": false,
     "start_time": "2024-03-31T03:01:17.616238",
     "status": "completed"
    },
    "tags": []
   },
   "outputs": [],
   "source": [
    "torch.save(model.state_dict(),'residual-model-final.pth')"
   ]
  }
 ],
 "metadata": {
  "kaggle": {
   "accelerator": "nvidiaTeslaT4",
   "dataSources": [
    {
     "datasetId": 4600054,
     "sourceId": 7845439,
     "sourceType": "datasetVersion"
    }
   ],
   "dockerImageVersionId": 30664,
   "isGpuEnabled": true,
   "isInternetEnabled": true,
   "language": "python",
   "sourceType": "notebook"
  },
  "kernelspec": {
   "display_name": "Python 3",
   "language": "python",
   "name": "python3"
  },
  "language_info": {
   "codemirror_mode": {
    "name": "ipython",
    "version": 3
   },
   "file_extension": ".py",
   "mimetype": "text/x-python",
   "name": "python",
   "nbconvert_exporter": "python",
   "pygments_lexer": "ipython3",
   "version": "3.10.13"
  },
  "papermill": {
   "default_parameters": {},
   "duration": 6509.130429,
   "end_time": "2024-03-31T03:01:22.599453",
   "environment_variables": {},
   "exception": null,
   "input_path": "__notebook__.ipynb",
   "output_path": "__notebook__.ipynb",
   "parameters": {},
   "start_time": "2024-03-31T01:12:53.469024",
   "version": "2.5.0"
  }
 },
 "nbformat": 4,
 "nbformat_minor": 5
}
